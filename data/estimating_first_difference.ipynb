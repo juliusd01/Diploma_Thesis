{
 "cells": [
  {
   "cell_type": "markdown",
   "metadata": {},
   "source": [
    "# estimating the first difference for study by Jan Marcus et al. (2022)\n",
    "- the model is quite simple: y = a0 + a1 * Saxony dummy + e\n",
    "- compares saxons that received treatment 2008/09, 2009/10 and 2010/11 with kids from Thuringia and Brandenburg during the same time\n",
    "- the model is estimated using OLS\n",
    "\n",
    "\n",
    "\n",
    "\n",
    "\n",
    "\n",
    "\n",
    "# find number of saxons treated\n",
    "treated = df[df[\"treat\"]==1]\n",
    "print(len(treated))"
   ]
  },
  {
   "cell_type": "code",
   "execution_count": 23,
   "metadata": {},
   "outputs": [
    {
     "name": "stdout",
     "output_type": "stream",
     "text": [
      "19850\n"
     ]
    }
   ],
   "source": [
    "import pandas as pd\n",
    "# import numpy as np\n",
    "# import statsmodels.api as sm\n",
    "# import statsmodels.formula.api as smf\n",
    "# from linearmodels.panel import PanelOLS\n",
    "# load data\n",
    "df = pd.read_csv('main_data.csv')\n",
    "print(len(df))"
   ]
  },
  {
   "cell_type": "markdown",
   "metadata": {},
   "source": [
    "The data contains 19,850 individuals."
   ]
  },
  {
   "cell_type": "code",
   "execution_count": 24,
   "metadata": {},
   "outputs": [
    {
     "name": "stdout",
     "output_type": "stream",
     "text": [
      "yob\n",
      "2001.0    3782\n",
      "2002.0    3764\n",
      "2000.0    3533\n",
      "1999.0    2860\n",
      "1998.0    2409\n",
      "2003.0    1535\n",
      "1997.0    1230\n",
      "Name: count, dtype: int64\n",
      "Number of observations left: 19113\n"
     ]
    }
   ],
   "source": [
    "# Drop individuals with invalid birth dates\n",
    "df = df.dropna(subset=['yob'])\n",
    "# drop individuals with birth dates before 1996 and after 2001\n",
    "df = df[(df.yob > 1996) & (df.yob <= 2003)]\n",
    "# Probabaly also individuals were dropped with birth dates later than June 2003 and earlier than July 1997 because of German school entry cutoffs \n",
    "df = df[~((df.yob == 2003) & (df.mob > 6))]\n",
    "df = df[~((df.yob == 1996) & (df.mob < 7))]\n",
    "print(df['yob'].value_counts())\n",
    "print(f\"Number of observations left: {len(df)}\")\n"
   ]
  },
  {
   "cell_type": "markdown",
   "metadata": {},
   "source": [
    "Jan Marcus et al. had 19,095 participants left after performing this operation. My number deviates by 18."
   ]
  },
  {
   "cell_type": "code",
   "execution_count": 27,
   "metadata": {},
   "outputs": [
    {
     "name": "stdout",
     "output_type": "stream",
     "text": [
      "bula_3rd\n",
      "13. Sachsen       9694\n",
      "4. Brandenburg    4820\n",
      "16. Thüringen     3137\n",
      "Name: count, dtype: int64\n",
      "17651\n"
     ]
    }
   ],
   "source": [
    "# delete observations from people that attended third grade in another state\n",
    "# List of values to keep\n",
    "values = [\"16. Thüringen\", \"13. Sachsen\", \"4. Brandenburg\"]\n",
    "\n",
    "# Only keep rows in df where 'bula_3rd' is in `values`\n",
    "df = df[df.bula_3rd.isin(values)]\n",
    "print(df['bula_3rd'].value_counts())\n",
    "print(len(df))"
   ]
  },
  {
   "cell_type": "markdown",
   "metadata": {},
   "source": [
    "### Minor issue\n",
    "I cannot replicate the deletion by Jan Marcus et al. Maybe there is a flag, to show which people are from the correct state in third grade?"
   ]
  },
  {
   "cell_type": "code",
   "execution_count": 28,
   "metadata": {},
   "outputs": [
    {
     "name": "stdout",
     "output_type": "stream",
     "text": [
      "16840\n"
     ]
    }
   ],
   "source": [
    "# Disregard people that did not answer the 6 important questions for outcome variables\n",
    "columns = [\"kommheard\", \"kommgotten\", \"kommused\", \"sportsclub\", \"sport_hrs\", \"oweight\"]\n",
    "df = df.dropna(subset=columns)\n",
    "print(len(df))\n"
   ]
  },
  {
   "cell_type": "code",
   "execution_count": 30,
   "metadata": {},
   "outputs": [
    {
     "name": "stdout",
     "output_type": "stream",
     "text": [
      "14092\n"
     ]
    }
   ],
   "source": [
    "# Disregard third graders in school year 2011/12\n",
    "df = df[df['year_3rd'] != \"2011/12\"] \n",
    "print(len(df))\n",
    "df.to_csv('cleaned_data.csv', index=False)"
   ]
  },
  {
   "cell_type": "markdown",
   "metadata": {},
   "source": [
    "# Data Cleaning Summary\n",
    "- I was able to reproduce most of the cleaning steps by Jan Marcus et al.\n",
    "- There was only a major deviation when checking for people which were in 3rd grade in another state. I have ~800 less people from other states deleted.\n",
    "- Would be helpful to know what all the single variables mean"
   ]
  }
 ],
 "metadata": {
  "kernelspec": {
   "display_name": "Python 3",
   "language": "python",
   "name": "python3"
  },
  "language_info": {
   "codemirror_mode": {
    "name": "ipython",
    "version": 3
   },
   "file_extension": ".py",
   "mimetype": "text/x-python",
   "name": "python",
   "nbconvert_exporter": "python",
   "pygments_lexer": "ipython3",
   "version": "3.10.14"
  }
 },
 "nbformat": 4,
 "nbformat_minor": 2
}
