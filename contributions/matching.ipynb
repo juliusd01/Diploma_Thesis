{
 "cells": [
  {
   "cell_type": "markdown",
   "metadata": {},
   "source": [
    "# Matching 👬"
   ]
  },
  {
   "cell_type": "code",
   "execution_count": null,
   "metadata": {},
   "outputs": [],
   "source": [
    "import pandas as pd\n",
    "import numpy as np\n",
    "import statsmodels.formula.api as sm\n",
    "# The more-popular matching tools in sklearn\n",
    "# are more geared towards machine learning than statistical inference\n",
    "from causalinference.causal import CausalModel\n",
    "from causaldata import black_politicians\n",
    "br = black_politicians.load_pandas().data\n",
    "\n",
    "# Get our outcome, treatment, and matching variables as numpy arrays\n",
    "Y = br['responded'].to_numpy()\n",
    "D = br['leg_black'].to_numpy()\n",
    "X = br[['medianhhincom', 'blackpercent', 'leg_democrat']].to_numpy()\n",
    "\n",
    "# Set up our model\n",
    "M = CausalModel(Y, D, X)\n",
    "\n",
    "# Estimate the propensity score using logit\n",
    "M.est_propensity()\n",
    "\n",
    "# Trim the score with improved algorithm trim_s to improve balance\n",
    "M.trim_s()\n",
    "\n",
    "# If we want to use the scores elsewhere, export them\n",
    "# (we could have also done this with sm.Logit)\n",
    "br['ps'] = M.propensity['fitted']\n",
    "\n",
    "# We can estimate the effect directly (note this uses \"doubly robust\" methods\n",
    "# as will be later described, which is why it doesn't match the sm.wls result)\n",
    "M.est_via_weighting()\n",
    "\n",
    "print(M.estimates)\n",
    "\n",
    "# Or we can do our own weighting\n",
    "br['ipw'] = br['leg_black']*(1/br['ps']\n",
    ") + (1-br['leg_black'])*(1/(1-br['ps']))\n",
    "\n",
    "# Now, use the weights to estimate the effect (this will produce \n",
    "# incorrect standard errors unless we bootstrap the whole process,\n",
    "# as in the doubly robust section later, or the Simulation chapter)\n",
    "m = sm.wls(formula = 'responded ~ leg_black',\n",
    "weights = br['ipw'],data = br).fit()\n",
    "\n",
    "m.summary()"
   ]
  }
 ],
 "metadata": {
  "language_info": {
   "name": "python"
  }
 },
 "nbformat": 4,
 "nbformat_minor": 2
}
