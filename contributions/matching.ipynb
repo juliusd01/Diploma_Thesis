{
 "cells": [
  {
   "cell_type": "markdown",
   "metadata": {},
   "source": [
    "# Matching 👬"
   ]
  },
  {
   "cell_type": "code",
   "execution_count": 67,
   "metadata": {},
   "outputs": [],
   "source": [
    "# Imports\n",
    "import pandas as pd\n",
    "import numpy as np\n",
    "import statsmodels as sm\n",
    "from causalinference.causal import CausalModel\n",
    "import matplotlib.pyplot as plt"
   ]
  },
  {
   "cell_type": "code",
   "execution_count": 68,
   "metadata": {},
   "outputs": [],
   "source": [
    "data = pd.read_csv('/home/juliusdoebelt/documents/repos/Diploma_Thesis/data/preprocessed_data.csv')\n",
    "# only select participants from the years 2008/09, 2009/10, and 2010/11\n",
    "data = data[(data['year_3rd'] == \"2008/09\") | (data['year_3rd'] == \"2009/10\") | (data['year_3rd'] == \"2010/11\")]\n",
    "important_variables = [\"treat\", \"oweight\", \"sportsclub\", \"sport_hrs\", \"kommheard\", \"kommgotten\", \"kommused\", \"female\", \"born_germany\", \"parent_nongermany\", \"sportsclub_4_7\", \"music_4_7\", \"urban\", \"yob\", \"mob\"]#, \"abi_p\", \"real_p\", \"haupt_p\"]\n",
    "data = data[important_variables]\n",
    "data.dropna(inplace=True)\n",
    "data.reset_index(drop=True, inplace=True)"
   ]
  },
  {
   "cell_type": "code",
   "execution_count": 69,
   "metadata": {},
   "outputs": [],
   "source": [
    "# create dummy variables for year of birth\n",
    "data['yob'] = data['yob'].astype(str)\n",
    "data = pd.get_dummies(data, columns=['yob'], drop_first=True, dtype=int)"
   ]
  },
  {
   "cell_type": "code",
   "execution_count": 70,
   "metadata": {},
   "outputs": [
    {
     "name": "stdout",
     "output_type": "stream",
     "text": [
      "0       0\n",
      "1       0\n",
      "2       0\n",
      "3       0\n",
      "4       0\n",
      "       ..\n",
      "8665    0\n",
      "8666    0\n",
      "8667    0\n",
      "8668    0\n",
      "8669    0\n",
      "Name: yob_1998.0, Length: 8670, dtype: int64\n"
     ]
    }
   ],
   "source": [
    "print(data['yob_1998.0'])"
   ]
  },
  {
   "cell_type": "markdown",
   "metadata": {},
   "source": [
    "# Propensity Score Estimation using Logistic Regression"
   ]
  },
  {
   "cell_type": "code",
   "execution_count": 72,
   "metadata": {},
   "outputs": [
    {
     "name": "stdout",
     "output_type": "stream",
     "text": [
      "Optimization terminated successfully.\n",
      "         Current function value: 0.629197\n",
      "         Iterations 5\n",
      "0       0.748776\n",
      "1       0.649050\n",
      "2       0.634653\n",
      "3       0.321621\n",
      "4       0.684242\n",
      "          ...   \n",
      "8665    0.288965\n",
      "8666    0.652554\n",
      "8667    0.644315\n",
      "8668    0.711133\n",
      "8669    0.369860\n",
      "Name: ps, Length: 8670, dtype: float64\n"
     ]
    }
   ],
   "source": [
    "# Prepare the data\n",
    "independent_variables = [\"female\", \"born_germany\", \"parent_nongermany\", \"sportsclub_4_7\", \"music_4_7\", \"urban\", 'yob_1998.0', 'yob_1999.0', 'yob_2000.0', 'yob_2001.0',\n",
    "       'yob_2002.0', 'yob_2003.0']\n",
    "X = data[independent_variables]\n",
    "y = data['treat']\n",
    "\n",
    "# Fit the model\n",
    "logit_model = sm.discrete.discrete_model.Logit(y, X)\n",
    "result = logit_model.fit()\n",
    "\n",
    "# Get the propensity scores\n",
    "data['ps'] = result.predict(X)\n",
    "\n",
    "print(data['ps'])"
   ]
  },
  {
   "cell_type": "code",
   "execution_count": 59,
   "metadata": {},
   "outputs": [
    {
     "name": "stdout",
     "output_type": "stream",
     "text": [
      "[[0. 1. 0. ... 0. 0. 0.]\n",
      " [1. 1. 0. ... 0. 1. 0.]\n",
      " [0. 1. 0. ... 1. 0. 0.]\n",
      " ...\n",
      " [0. 1. 0. ... 0. 0. 0.]\n",
      " [1. 1. 0. ... 1. 0. 0.]\n",
      " [1. 1. 0. ... 0. 0. 0.]]\n",
      "0       0.748787\n",
      "1       0.648998\n",
      "2       0.634670\n",
      "3       0.321595\n",
      "4       0.684285\n",
      "          ...   \n",
      "8665    0.290408\n",
      "8666    0.652458\n",
      "8667    0.644337\n",
      "8668    0.711055\n",
      "8669    0.369884\n",
      "Name: ps, Length: 8670, dtype: float64\n"
     ]
    }
   ],
   "source": [
    "# Get our outcome, treatment, and matching variables as numpy arrays\n",
    "# Outcome variable\n",
    "Y = data['sport_hrs'].to_numpy()\n",
    "# Treatment variable\n",
    "D = data['treat'].to_numpy()\n",
    "# Matching variables\n",
    "X = data[[\"female\", \"born_germany\", \"parent_nongermany\", \"sportsclub_4_7\", \"music_4_7\", \"urban\", 'yob_1998.0', 'yob_1999.0', 'yob_2000.0', 'yob_2001.0',\n",
    "       'yob_2002.0', 'yob_2003.0']].to_numpy()#, \"abi_p\", \"real_p\", \"haupt_p\"]].to_numpy()\n",
    "print(X)\n",
    "\n",
    "# Set up our model\n",
    "M = CausalModel(Y, D, X)\n",
    "\n",
    "# Estimate the propensity score using logit\n",
    "M.est_propensity(qua=None)\n",
    "\n",
    "# Trim the score with improved algorithm trim_s to improve balance\n",
    "#M.trim_s()\n",
    "\n",
    "# If we want to use the scores elsewhere, export them\n",
    "data['ps'] = M.propensity['fitted']\n",
    "print(data['ps'])"
   ]
  },
  {
   "cell_type": "code",
   "execution_count": 73,
   "metadata": {},
   "outputs": [
    {
     "data": {
      "text/plain": [
       "count    4027.000000\n",
       "mean        0.471141\n",
       "std         0.172817\n",
       "min         0.247794\n",
       "25%         0.318266\n",
       "50%         0.371631\n",
       "75%         0.660241\n",
       "max         0.822733\n",
       "Name: ps, dtype: float64"
      ]
     },
     "execution_count": 73,
     "metadata": {},
     "output_type": "execute_result"
    }
   ],
   "source": [
    "data[data['treat'] == 0]['ps'].describe()"
   ]
  },
  {
   "cell_type": "code",
   "execution_count": 74,
   "metadata": {},
   "outputs": [
    {
     "data": {
      "text/plain": [
       "count    4643.000000\n",
       "mean        0.591275\n",
       "std         0.152257\n",
       "min         0.247794\n",
       "25%         0.436355\n",
       "50%         0.655577\n",
       "75%         0.700858\n",
       "max         0.791319\n",
       "Name: ps, dtype: float64"
      ]
     },
     "execution_count": 74,
     "metadata": {},
     "output_type": "execute_result"
    }
   ],
   "source": [
    "data[data['treat'] == 1]['ps'].describe()"
   ]
  },
  {
   "cell_type": "markdown",
   "metadata": {},
   "source": [
    "## Checking for Common Support"
   ]
  },
  {
   "cell_type": "code",
   "execution_count": 75,
   "metadata": {},
   "outputs": [
    {
     "name": "stderr",
     "output_type": "stream",
     "text": [
      "/home/juliusdoebelt/.local/lib/python3.10/site-packages/seaborn/_oldcore.py:1119: FutureWarning: use_inf_as_na option is deprecated and will be removed in a future version. Convert inf values to NaN before operating instead.\n",
      "  with pd.option_context('mode.use_inf_as_na', True):\n",
      "/home/juliusdoebelt/.local/lib/python3.10/site-packages/seaborn/_oldcore.py:1119: FutureWarning: use_inf_as_na option is deprecated and will be removed in a future version. Convert inf values to NaN before operating instead.\n",
      "  with pd.option_context('mode.use_inf_as_na', True):\n"
     ]
    },
    {
     "data": {
      "image/png": "[encoded data removed]",
      "text/plain": [
       "<Figure size 640x480 with 1 Axes>"
      ]
     },
     "metadata": {},
     "output_type": "display_data"
    }
   ],
   "source": [
    "import seaborn as sns\n",
    "\n",
    "sns.histplot(data[data['treat'] == 0]['ps'], color=\"skyblue\", label='Untreated', bins=20)\n",
    "sns.histplot(data[data['treat'] == 1]['ps'], color=\"red\", label='Treated', bins=20)\n",
    "\n",
    "plt.legend(title='Group')\n",
    "plt.xlabel('Propensity Score')\n",
    "plt.title('Distribution of Propensity Scores for Treated and Untreated Groups')\n",
    "plt.show()"
   ]
  },
  {
   "cell_type": "markdown",
   "metadata": {},
   "source": [
    "Common support seems to be given. Just a weird distribution. Influence of 'urban' is too high."
   ]
  },
  {
   "cell_type": "markdown",
   "metadata": {},
   "source": [
    "## Evaluate covariate distribution for range of the propensity score"
   ]
  },
  {
   "cell_type": "code",
   "execution_count": 81,
   "metadata": {},
   "outputs": [
    {
     "name": "stdout",
     "output_type": "stream",
     "text": [
      "                   Treated  Untreated  Standardized Difference\n",
      "treat                 1.00       0.00                      inf\n",
      "female                0.35       0.34                     0.02\n",
      "born_germany          1.00       1.00                      NaN\n",
      "parent_nongermany     0.05       0.06                    -0.04\n",
      "sportsclub_4_7        1.00       1.00                      NaN\n",
      "music_4_7             0.30       0.36                    -0.13\n",
      "urban                 1.00       1.00                      NaN\n",
      "yob_1998.0            0.00       0.00                      NaN\n",
      "yob_1999.0            0.00       0.00                      NaN\n",
      "yob_2000.0            0.00       0.00                      NaN\n",
      "yob_2001.0            0.00       0.00                      NaN\n",
      "yob_2002.0            0.99       1.00                    -0.12\n",
      "yob_2003.0            0.01       0.00                     0.12\n",
      "ps                    0.59       0.59                     0.00\n"
     ]
    }
   ],
   "source": [
    "def covariate_balance_for_ps_range(data: pd.DataFrame, ps_low: float, ps_high: float):\n",
    "    \"\"\"Takes a dataframe and range for the propensity score and checks the covariate balance for the given range.\n",
    "    Outputs the mean values of all individuals for the given range for treated and untreated individuals.\n",
    "    \"\"\"\n",
    "    # only include relevant variables for balance checks\n",
    "    data = data[[\"treat\", \"female\", \"born_germany\", \"parent_nongermany\", \"sportsclub_4_7\", \"music_4_7\", \"urban\", 'yob_1998.0', 'yob_1999.0', 'yob_2000.0', 'yob_2001.0',\n",
    "       'yob_2002.0', 'yob_2003.0', 'ps']]\n",
    "    treated = data[(data['ps'] >= ps_low) & (data['ps'] <= ps_high) & (data['treat'] == 1)]\n",
    "    untreated = data[(data['ps'] >= ps_low) & (data['ps'] <= ps_high) & (data['treat'] == 0)]\n",
    "\n",
    "    treated_mean = treated.mean()\n",
    "    untreated_mean = untreated.mean()\n",
    "\n",
    "    # concat the two dataframes\n",
    "    balance = pd.concat([treated_mean, untreated_mean], axis=1).round(2)\n",
    "    balance.columns = ['Treated', 'Untreated']\n",
    "\n",
    "    # add standardized difference\n",
    "    balance['Standardized Difference'] = ((balance['Treated'] - balance['Untreated']) / np.sqrt((treated.var() + untreated.var()) / 2)).round(2)\n",
    "\n",
    "    return balance\n",
    "\n",
    "\n",
    "balance = covariate_balance_for_ps_range(data, 0.55, 0.6)\n",
    "print(balance)"
   ]
  }
 ],
 "metadata": {
  "kernelspec": {
   "display_name": "diplom",
   "language": "python",
   "name": "python3"
  },
  "language_info": {
   "codemirror_mode": {
    "name": "ipython",
    "version": 3
   },
   "file_extension": ".py",
   "mimetype": "text/x-python",
   "name": "python",
   "nbconvert_exporter": "python",
   "pygments_lexer": "ipython3",
   "version": "3.10.14"
  }
 },
 "nbformat": 4,
 "nbformat_minor": 2
}
