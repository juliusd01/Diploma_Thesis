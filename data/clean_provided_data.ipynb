{
 "cells": [
  {
   "cell_type": "markdown",
   "metadata": {},
   "source": [
    "# First Step: Clean data as indicated in paper"
   ]
  },
  {
   "cell_type": "code",
   "execution_count": 77,
   "metadata": {},
   "outputs": [
    {
     "name": "stdout",
     "output_type": "stream",
     "text": [
      "19850\n"
     ]
    }
   ],
   "source": [
    "import pandas as pd\n",
    "\n",
    "# load data\n",
    "df = pd.read_csv('main_data.csv')\n",
    "print(len(df))"
   ]
  },
  {
   "cell_type": "markdown",
   "metadata": {},
   "source": [
    "The data contains 19,850 individuals."
   ]
  },
  {
   "cell_type": "code",
   "execution_count": 78,
   "metadata": {},
   "outputs": [
    {
     "name": "stdout",
     "output_type": "stream",
     "text": [
      "yob\n",
      "2001.0    3782\n",
      "2002.0    3764\n",
      "2000.0    3533\n",
      "1999.0    2860\n",
      "1998.0    2409\n",
      "2003.0    1535\n",
      "1997.0    1230\n",
      "Name: count, dtype: int64\n",
      "Number of observations left: 19113\n"
     ]
    }
   ],
   "source": [
    "# Drop individuals with invalid birth dates\n",
    "df = df.dropna(subset=['yob'])\n",
    "# drop individuals with birth dates before 1996 and after 2001\n",
    "df = df[(df.yob > 1996) & (df.yob <= 2003)]\n",
    "# Probabaly also individuals were dropped with birth dates later than June 2003 and earlier than July 1997 because of German school entry cutoffs \n",
    "df = df[~((df.yob == 2003) & (df.mob > 6))]\n",
    "df = df[~((df.yob == 1996) & (df.mob < 7))]\n",
    "print(df['yob'].value_counts())\n",
    "print(f\"Number of observations left: {len(df)}\")\n"
   ]
  },
  {
   "cell_type": "markdown",
   "metadata": {},
   "source": [
    "Jan Marcus et al. had 19,095 participants left after performing this operation. My number deviates by 18."
   ]
  },
  {
   "cell_type": "code",
   "execution_count": 79,
   "metadata": {},
   "outputs": [
    {
     "name": "stdout",
     "output_type": "stream",
     "text": [
      "17651\n"
     ]
    }
   ],
   "source": [
    "# delete observations from people that attended third grade in another state\n",
    "# List of values to keep\n",
    "values = [\"16. Thüringen\", \"13. Sachsen\", \"4. Brandenburg\"]\n",
    "\n",
    "# Only keep rows in df where 'bula_3rd' is in `values`\n",
    "df = df[df.bula_3rd.isin(values)]\n",
    "print(len(df))"
   ]
  },
  {
   "cell_type": "code",
   "execution_count": 80,
   "metadata": {},
   "outputs": [
    {
     "name": "stdout",
     "output_type": "stream",
     "text": [
      "17002\n",
      "year_3rd\n",
      "2010/11    3479\n",
      "2009/10    3323\n",
      "2008/09    3011\n",
      "2011/12    2897\n",
      "2007/08    2410\n",
      "2006/07    1708\n",
      "Name: count, dtype: int64\n",
      "bula_3rd\n",
      "13. Sachsen       9334\n",
      "4. Brandenburg    4661\n",
      "16. Thüringen     3007\n",
      "Name: count, dtype: int64\n"
     ]
    }
   ],
   "source": [
    "# disregard third graders that stated they attended third grade in year 2005, 2012, 2013 or 2014\n",
    "df = df[(df['year_3rd']!=\"2004.0\") & (df['year_3rd']!=\"2005.0\") & (df['year_3rd']!=\"2006.0\") & (df['year_3rd']!=\"2012.0\") & (df['year_3rd']!=\"2013.0\") & (df['year_3rd']!=\"2014.0\")]\n",
    "print(len(df))\n",
    "print(df['year_3rd'].value_counts())\n",
    "print(df['bula_3rd'].value_counts())\n"
   ]
  },
  {
   "cell_type": "code",
   "execution_count": 81,
   "metadata": {},
   "outputs": [],
   "source": [
    "# drop individuals with missing treatment status\n",
    "df = df.dropna(subset=['treat'])"
   ]
  },
  {
   "cell_type": "code",
   "execution_count": 82,
   "metadata": {},
   "outputs": [
    {
     "name": "stdout",
     "output_type": "stream",
     "text": [
      "16082\n"
     ]
    }
   ],
   "source": [
    "# Disregard people that did not answer the 6 important questions for outcome variables\n",
    "columns = [\"kommheard\", \"kommgotten\", \"kommused\", \"sportsclub\", \"sport_hrs\", \"oweight\"]\n",
    "df = df.dropna(subset=columns)\n",
    "print(len(df))\n"
   ]
  },
  {
   "cell_type": "code",
   "execution_count": 83,
   "metadata": {},
   "outputs": [
    {
     "name": "stdout",
     "output_type": "stream",
     "text": [
      "13334\n"
     ]
    }
   ],
   "source": [
    "# Disregard third graders in school year 2011/12\n",
    "df = df[df['year_3rd'] != \"2011/12\"] \n",
    "print(len(df))\n",
    "df.to_csv('cleaned_data.csv', index=False)"
   ]
  },
  {
   "cell_type": "markdown",
   "metadata": {},
   "source": [
    "# Data Cleaning Summary\n",
    "- I was able to reproduce the cleaning steps by Jan Marcus et al.\n",
    "- My cleaned data consists of 13,334 people. This exact number is also obtained by the authors.\n",
    "- They might have applied the cleaning steps in slightly different order, as intermediate results have minor deviations"
   ]
  },
  {
   "cell_type": "code",
   "execution_count": 84,
   "metadata": {},
   "outputs": [
    {
     "data": {
      "text/plain": [
       "bula_3rd\n",
       "13. Sachsen       7211\n",
       "4. Brandenburg    3762\n",
       "16. Thüringen     2361\n",
       "Name: count, dtype: int64"
      ]
     },
     "execution_count": 84,
     "metadata": {},
     "output_type": "execute_result"
    }
   ],
   "source": [
    "df['bula_3rd'].value_counts()"
   ]
  },
  {
   "cell_type": "markdown",
   "metadata": {},
   "source": [
    "# Checking treatment and control groups"
   ]
  },
  {
   "cell_type": "code",
   "execution_count": 85,
   "metadata": {},
   "outputs": [
    {
     "name": "stdout",
     "output_type": "stream",
     "text": [
      "Number of Saxons treated: 5027\n",
      "Number untreated: 8307\n"
     ]
    }
   ],
   "source": [
    "# find number of saxons treated\n",
    "treated = df[(df['treat']==1)]\n",
    "print(f\"Number of Saxons treated: {len(treated)}\")\n",
    "\n",
    "# untreated\n",
    "untreated = df[(df['treat']==0)]\n",
    "print(f\"Number untreated: {len(untreated)}\")"
   ]
  },
  {
   "cell_type": "code",
   "execution_count": 86,
   "metadata": {},
   "outputs": [
    {
     "name": "stdout",
     "output_type": "stream",
     "text": [
      "Number of Saxons pre-treatment: 2184\n"
     ]
    }
   ],
   "source": [
    "# find number of saxons pre-treatment\n",
    "pre_treated = df[(df['treat']==0) & (df['bula_3rd'] == \"13. Sachsen\") & ((df['year_3rd'] == \"2007/08\") | (df['year_3rd'] == \"2006/07\"))]\n",
    "print(f\"Number of Saxons pre-treatment: {len(pre_treated)}\")\n"
   ]
  },
  {
   "cell_type": "code",
   "execution_count": 87,
   "metadata": {},
   "outputs": [
    {
     "name": "stdout",
     "output_type": "stream",
     "text": [
      "Number of control individuals during treatment: 4344\n"
     ]
    }
   ],
   "source": [
    "# find number of control individuals during treatment\n",
    "control = df[(df['treat']==0) & (df['bula_3rd'] != \"13. Sachsen\") & ((df['year_3rd'] == \"2008/09\") | (df['year_3rd'] == \"2009/10\") | (df['year_3rd'] == \"2010/11\"))]\n",
    "print(f\"Number of control individuals during treatment: {len(control)}\")\n"
   ]
  },
  {
   "cell_type": "code",
   "execution_count": 88,
   "metadata": {},
   "outputs": [
    {
     "name": "stdout",
     "output_type": "stream",
     "text": [
      "Number of control individuals pre-treatment: 1779\n"
     ]
    }
   ],
   "source": [
    "# find number of control individuals pre-treatment\n",
    "pre_control = df[(df['treat']==0) & (df['bula_3rd'] != \"13. Sachsen\") & ((df['year_3rd'] == \"2007/08\") | (df['year_3rd'] == \"2006/07\"))]\n",
    "print(f\"Number of control individuals pre-treatment: {len(pre_control)}\")"
   ]
  },
  {
   "cell_type": "markdown",
   "metadata": {},
   "source": [
    "Luckily, all the numbers add up and I can proceed"
   ]
  },
  {
   "cell_type": "markdown",
   "metadata": {},
   "source": [
    "# Transform variable values to binary or int "
   ]
  },
  {
   "cell_type": "code",
   "execution_count": 89,
   "metadata": {},
   "outputs": [],
   "source": [
    "import numpy as np"
   ]
  },
  {
   "cell_type": "code",
   "execution_count": 90,
   "metadata": {},
   "outputs": [
    {
     "name": "stdout",
     "output_type": "stream",
     "text": [
      "female\n",
      "1. weiblich    7609\n",
      "0. männlich    5722\n",
      "Name: count, dtype: int64\n",
      "female\n",
      "1    7609\n",
      "0    5725\n",
      "Name: count, dtype: int64\n"
     ]
    }
   ],
   "source": [
    "# convert female to binary\n",
    "print(df[\"female\"].value_counts())\n",
    "df[\"female\"] = np.where(df[\"female\"] == \"1. weiblich\", 1, 0)\n",
    "print(df[\"female\"].value_counts())"
   ]
  },
  {
   "cell_type": "code",
   "execution_count": 91,
   "metadata": {},
   "outputs": [
    {
     "name": "stdout",
     "output_type": "stream",
     "text": [
      "siblings\n",
      "1. Ja      11278\n",
      "0. Nein     1907\n",
      "Name: count, dtype: int64\n",
      "siblings\n",
      "1    11278\n",
      "0     2056\n",
      "Name: count, dtype: int64\n"
     ]
    }
   ],
   "source": [
    "# convert siblings to binary\n",
    "print(df['siblings'].value_counts())\n",
    "df['siblings'] = np.where(df['siblings'] == \"1. Ja\", 1, 0)\n",
    "print(df['siblings'].value_counts())"
   ]
  },
  {
   "cell_type": "code",
   "execution_count": 92,
   "metadata": {},
   "outputs": [
    {
     "name": "stdout",
     "output_type": "stream",
     "text": [
      "born_germany\n",
      "1. In Deutschland                         12765\n",
      "0. Außerhalb Deutschlands, und zwar in      493\n",
      "Name: count, dtype: int64\n",
      "born_germany\n",
      "1    12765\n",
      "0      569\n",
      "Name: count, dtype: int64\n"
     ]
    }
   ],
   "source": [
    "# convert born_germany\n",
    "print(df['born_germany'].value_counts())\n",
    "df['born_germany'] = np.where(df['born_germany'] == \"1. In Deutschland\", 1, 0)\n",
    "print(df['born_germany'].value_counts())"
   ]
  },
  {
   "cell_type": "code",
   "execution_count": 93,
   "metadata": {},
   "outputs": [
    {
     "name": "stdout",
     "output_type": "stream",
     "text": [
      "newspaper\n",
      "1. Ja      7666\n",
      "0. Nein    5576\n",
      "Name: count, dtype: int64\n",
      "newspaper\n",
      "1    7666\n",
      "0    5668\n",
      "Name: count, dtype: int64\n"
     ]
    }
   ],
   "source": [
    "# convert newspaper to binary\n",
    "print(df['newspaper'].value_counts())\n",
    "df['newspaper'] = np.where(df['newspaper'] == \"1. Ja\", 1, 0)\n",
    "print(df['newspaper'].value_counts())"
   ]
  },
  {
   "cell_type": "code",
   "execution_count": 94,
   "metadata": {},
   "outputs": [
    {
     "name": "stdout",
     "output_type": "stream",
     "text": [
      "art_at_home\n",
      "1. Ja      9643\n",
      "0. Nein    3612\n",
      "Name: count, dtype: int64\n",
      "art_at_home\n",
      "1    9643\n",
      "0    3691\n",
      "Name: count, dtype: int64\n"
     ]
    }
   ],
   "source": [
    "# convert art_at_home to binary\n",
    "print(df['art_at_home'].value_counts())\n",
    "df['art_at_home'] = np.where(df['art_at_home'] == \"1. Ja\", 1, 0)\n",
    "print(df['art_at_home'].value_counts())"
   ]
  },
  {
   "cell_type": "code",
   "execution_count": 95,
   "metadata": {},
   "outputs": [],
   "source": [
    "# save preprocessed data\n",
    "df.to_csv('preprocessed_data.csv', index=False)"
   ]
  }
 ],
 "metadata": {
  "kernelspec": {
   "display_name": "Python 3",
   "language": "python",
   "name": "python3"
  },
  "language_info": {
   "codemirror_mode": {
    "name": "ipython",
    "version": 3
   },
   "file_extension": ".py",
   "mimetype": "text/x-python",
   "name": "python",
   "nbconvert_exporter": "python",
   "pygments_lexer": "ipython3",
   "version": "3.10.14"
  }
 },
 "nbformat": 4,
 "nbformat_minor": 2
}
